{
  "nbformat": 4,
  "nbformat_minor": 0,
  "metadata": {
    "colab": {
      "provenance": []
    },
    "kernelspec": {
      "name": "python3",
      "display_name": "Python 3"
    },
    "language_info": {
      "name": "python"
    }
  },
  "cells": [
    {
      "cell_type": "markdown",
      "source": [
        "# Importing Libraries and Dependencies"
      ],
      "metadata": {
        "id": "AhoQLZXnLg78"
      }
    },
    {
      "cell_type": "code",
      "source": [
        "import os\n",
        "import torch\n",
        "import torch.optim as optim\n",
        "import torchvision.models as models\n",
        "from torch.utils.data import Dataset, DataLoader\n",
        "from PIL import Image\n",
        "import numpy as np\n",
        "import torchvision.transforms as transforms\n",
        "from tqdm import tqdm  # Import tqdm for progress bars\n",
        "from sklearn.metrics import confusion_matrix, precision_score, recall_score, f1_score\n",
        "import matplotlib.pyplot as plt\n",
        "import seaborn as sns"
      ],
      "metadata": {
        "id": "aj3DJSrkbqWL"
      },
      "execution_count": 96,
      "outputs": []
    },
    {
      "cell_type": "markdown",
      "source": [
        "# Mounting Google Drive in Colab"
      ],
      "metadata": {
        "id": "x1Y0mriqLj5N"
      }
    },
    {
      "cell_type": "code",
      "source": [
        "# Mount Google Drive\n",
        "from google.colab import drive\n",
        "drive.mount('/content/drive')\n"
      ],
      "metadata": {
        "colab": {
          "base_uri": "https://localhost:8080/"
        },
        "id": "iXCb9LsW1xhT",
        "outputId": "e9435acf-4584-477d-c5c3-15e4e4f0ca38"
      },
      "execution_count": 97,
      "outputs": [
        {
          "output_type": "stream",
          "name": "stdout",
          "text": [
            "Drive already mounted at /content/drive; to attempt to forcibly remount, call drive.mount(\"/content/drive\", force_remount=True).\n"
          ]
        }
      ]
    },
    {
      "cell_type": "markdown",
      "source": [
        "# Custom Loss Function: Partial Cross-Entropy Loss"
      ],
      "metadata": {
        "id": "CWvC-cRyL3Yf"
      }
    },
    {
      "cell_type": "code",
      "source": [
        "# Define the PartialCrossEntropyLoss class\n",
        "class PartialCrossEntropyLoss(torch.nn.Module):\n",
        "    def __init__(self):\n",
        "        super(PartialCrossEntropyLoss, self).__init__()\n",
        "        self.ce_loss = torch.nn.CrossEntropyLoss(reduction='none')\n",
        "\n",
        "    def forward(self, inputs, targets, mask):\n",
        "        loss = self.ce_loss(inputs, targets)\n",
        "        masked_loss = loss * mask.unsqueeze(2)  # Add class dimension to mask\n",
        "        partial_loss = torch.sum(masked_loss) / torch.sum(mask)\n",
        "        return partial_loss"
      ],
      "metadata": {
        "id": "gSK8N2zkfRHU"
      },
      "execution_count": 98,
      "outputs": []
    },
    {
      "cell_type": "markdown",
      "source": [
        "# Custom Dataset Class for Remote Sensing Semantic and Instance Segmentation"
      ],
      "metadata": {
        "id": "kuPAgJpNL5sG"
      }
    },
    {
      "cell_type": "code",
      "source": [
        "class RemoteSensingDataset(Dataset):\n",
        "    def __init__(self, semantic_mask_dir, instance_mask_dir, transform=None, target_size=(128, 128)):\n",
        "        self.semantic_mask_dir = semantic_mask_dir\n",
        "        self.instance_mask_dir = instance_mask_dir\n",
        "        self.transform = transform\n",
        "        self.semantic_mask_list = os.listdir(semantic_mask_dir)\n",
        "        self.instance_mask_list = os.listdir(instance_mask_dir)\n",
        "        self.target_size = target_size\n",
        "\n",
        "    def __len__(self):\n",
        "        return min(len(self.semantic_mask_list), len(self.instance_mask_list))\n",
        "\n",
        "    def __getitem__(self, idx):\n",
        "        semantic_mask_name = self.semantic_mask_list[idx]\n",
        "        instance_mask_name = self.instance_mask_list[idx]\n",
        "\n",
        "        semantic_mask_path = os.path.join(self.semantic_mask_dir, semantic_mask_name)\n",
        "        instance_mask_path = os.path.join(self.instance_mask_dir, instance_mask_name)\n",
        "\n",
        "        semantic_mask = Image.open(semantic_mask_path).convert('RGB')\n",
        "        instance_mask = Image.open(instance_mask_path).convert('RGB')\n",
        "\n",
        "        # Resize images and masks\n",
        "        semantic_mask = semantic_mask.resize(self.target_size, Image.NEAREST)\n",
        "        instance_mask = instance_mask.resize(self.target_size, Image.NEAREST)\n",
        "\n",
        "        # Convert masks to numpy arrays\n",
        "        semantic_mask = np.array(semantic_mask)\n",
        "        instance_mask = np.array(instance_mask)\n",
        "\n",
        "        # Convert instance mask to 3D tensor\n",
        "        instance_mask = instance_mask[:, :, 0]  # Select one channel\n",
        "        instance_mask = self.convert_instance_mask(instance_mask)\n",
        "        instance_mask = np.expand_dims(instance_mask, axis=0)  # Add channel dimension\n",
        "\n",
        "        points = self.simulate_point_labels(semantic_mask)\n",
        "\n",
        "        if self.transform:\n",
        "            semantic_mask = self.transform(semantic_mask)\n",
        "            instance_mask = torch.tensor(instance_mask, dtype=torch.long)  # Convert to tensor\n",
        "            points = self.transform(points)\n",
        "\n",
        "        return semantic_mask, instance_mask, points\n",
        "\n",
        "    def convert_instance_mask(self, mask):\n",
        "        unique_labels = np.unique(mask)\n",
        "        new_mask = np.zeros_like(mask)\n",
        "        for i, label in enumerate(unique_labels):\n",
        "            if label == 0:  # Skip background\n",
        "                continue\n",
        "            new_mask[mask == label] = i\n",
        "        return new_mask\n",
        "\n",
        "    def simulate_point_labels(self, mask):\n",
        "        points = np.zeros_like(mask)\n",
        "        unique_labels = np.unique(mask)\n",
        "        for label in unique_labels:\n",
        "            if label == 0:  # Skip background\n",
        "                continue\n",
        "            label_indices = np.where(mask == label)\n",
        "            num_points = min(10, len(label_indices[0]))  # Simulate up to 10 points per class\n",
        "            sampled_indices = np.random.choice(range(len(label_indices[0])), num_points, replace=False)\n",
        "            for idx in sampled_indices:\n",
        "                points[label_indices[0][idx], label_indices[1][idx]] = label\n",
        "        return points"
      ],
      "metadata": {
        "id": "kPdMMU6FfUwC"
      },
      "execution_count": 99,
      "outputs": []
    },
    {
      "cell_type": "markdown",
      "source": [
        "# Defining Transformations for Data Augmentation"
      ],
      "metadata": {
        "id": "BrtEBKy_MJXD"
      }
    },
    {
      "cell_type": "code",
      "source": [
        "transform = transforms.Compose([\n",
        "    transforms.ToTensor(),\n",
        "])"
      ],
      "metadata": {
        "id": "otZmIAdPfZ4L"
      },
      "execution_count": 100,
      "outputs": []
    },
    {
      "cell_type": "markdown",
      "source": [
        "# Loading Remote Sensing Segmented Data"
      ],
      "metadata": {
        "id": "eUo2hENXMK_f"
      }
    },
    {
      "cell_type": "code",
      "source": [
        "semantic_mask_dir = '/content/drive/MyDrive/RemoteSenseImageSegmentationData/Semantic_mask'\n",
        "instance_mask_dir = '/content/drive/MyDrive/RemoteSenseImageSegmentationData/Instance_mask'\n",
        "\n",
        "dataset = RemoteSensingDataset(semantic_mask_dir, instance_mask_dir, transform=transform, target_size=(128, 128))"
      ],
      "metadata": {
        "id": "XlQQIbDDfngn"
      },
      "execution_count": 101,
      "outputs": []
    },
    {
      "cell_type": "markdown",
      "source": [
        "# Splitting Dataset into Training and Validation Sets and Creating Data Loaders"
      ],
      "metadata": {
        "id": "h19YrsubMcLJ"
      }
    },
    {
      "cell_type": "code",
      "source": [
        "# Split dataset into training and validation sets\n",
        "train_size = int(0.8 * len(dataset))\n",
        "val_size = len(dataset) - train_size\n",
        "train_dataset, val_dataset = torch.utils.data.random_split(dataset, [train_size, val_size])\n",
        "\n",
        "train_dataloader = DataLoader(train_dataset, batch_size=4, shuffle=True)\n",
        "val_dataloader = DataLoader(val_dataset, batch_size=4, shuffle=False)"
      ],
      "metadata": {
        "id": "1uLQ7sbGfw0H"
      },
      "execution_count": 102,
      "outputs": []
    },
    {
      "cell_type": "markdown",
      "source": [
        "# Loading Pretrained DeepLabV3 Model and Modifying Final Classifier Layer"
      ],
      "metadata": {
        "id": "wnSCccIVMosH"
      }
    },
    {
      "cell_type": "code",
      "source": [
        "model = models.segmentation.deeplabv3_resnet50(pretrained=True)\n",
        "model.classifier[4] = torch.nn.Conv2d(256, 21, kernel_size=(1, 1), stride=(1, 1))"
      ],
      "metadata": {
        "colab": {
          "base_uri": "https://localhost:8080/"
        },
        "id": "Bi9yYaAEf5II",
        "outputId": "7e499160-da02-41f1-e65e-1df9a184b68d"
      },
      "execution_count": 103,
      "outputs": [
        {
          "output_type": "stream",
          "name": "stderr",
          "text": [
            "/usr/local/lib/python3.10/dist-packages/torchvision/models/_utils.py:208: UserWarning: The parameter 'pretrained' is deprecated since 0.13 and may be removed in the future, please use 'weights' instead.\n",
            "  warnings.warn(\n",
            "/usr/local/lib/python3.10/dist-packages/torchvision/models/_utils.py:223: UserWarning: Arguments other than a weight enum or `None` for 'weights' are deprecated since 0.13 and may be removed in the future. The current behavior is equivalent to passing `weights=DeepLabV3_ResNet50_Weights.COCO_WITH_VOC_LABELS_V1`. You can also use `weights=DeepLabV3_ResNet50_Weights.DEFAULT` to get the most up-to-date weights.\n",
            "  warnings.warn(msg)\n"
          ]
        }
      ]
    },
    {
      "cell_type": "markdown",
      "source": [
        "# Defining Loss Function and Optimizer"
      ],
      "metadata": {
        "id": "HA65H2ClMvHa"
      }
    },
    {
      "cell_type": "code",
      "source": [
        "criterion = PartialCrossEntropyLoss()\n",
        "optimizer = optim.Adam(model.parameters(), lr=1e-4)"
      ],
      "metadata": {
        "id": "xinLdXC5f_Cb"
      },
      "execution_count": 104,
      "outputs": []
    },
    {
      "cell_type": "markdown",
      "source": [
        "# Training and Validation Loop with Metrics Calculation"
      ],
      "metadata": {
        "id": "_52TNAFPM1hq"
      }
    },
    {
      "cell_type": "code",
      "source": [
        "from sklearn.metrics import classification_report, precision_score, recall_score, f1_score\n",
        "import numpy as np\n",
        "\n",
        "num_epochs = 2\n",
        "for epoch in range(num_epochs):\n",
        "    model.train()\n",
        "    running_loss = 0.0\n",
        "    correct = 0\n",
        "    total = 0\n",
        "    all_train_true_labels = []\n",
        "    all_train_pred_labels = []\n",
        "    tqdm_dataloader = tqdm(train_dataloader)  # Wrap dataloader with tqdm\n",
        "    for semantic_masks, instance_masks, points in tqdm_dataloader:\n",
        "        optimizer.zero_grad()\n",
        "\n",
        "        outputs = model(semantic_masks)['out']\n",
        "\n",
        "        # Apply softmax activation\n",
        "        outputs = torch.nn.functional.softmax(outputs, dim=1)\n",
        "\n",
        "        # Reshape instance_masks and points to remove the extra dimension\n",
        "        instance_masks = instance_masks.squeeze(1)\n",
        "        points = points.squeeze(1)\n",
        "\n",
        "        loss = criterion(outputs, instance_masks, points)\n",
        "        loss.backward()\n",
        "        optimizer.step()\n",
        "\n",
        "        running_loss += loss.item()\n",
        "        tqdm_dataloader.set_description(f'Epoch [{epoch+1}/{num_epochs}], Loss: {running_loss/len(tqdm_dataloader):.4f}')  # Update tqdm description\n",
        "\n",
        "        _, predicted = torch.max(outputs.data, 1)\n",
        "        total += instance_masks.nelement()\n",
        "        correct += (predicted == instance_masks).sum().item()\n",
        "\n",
        "        # Collect true and predicted labels for the classification report\n",
        "        all_train_true_labels.extend(instance_masks.cpu().numpy().flatten())\n",
        "        all_train_pred_labels.extend(predicted.cpu().numpy().flatten())\n",
        "\n",
        "    train_accuracy = correct / total\n",
        "\n",
        "    # Generate training classification report\n",
        "    train_precision = precision_score(all_train_true_labels, all_train_pred_labels, average='weighted')\n",
        "    train_recall = recall_score(all_train_true_labels, all_train_pred_labels, average='weighted')\n",
        "    train_f1 = f1_score(all_train_true_labels, all_train_pred_labels, average='weighted')\n",
        "\n",
        "    #---------------------------------------------------------------#\n",
        "\n",
        "\n",
        "    # Validation phase\n",
        "    model.eval()\n",
        "    val_running_loss = 0.0\n",
        "    val_correct = 0\n",
        "    val_total = 0\n",
        "    all_val_true_labels = []\n",
        "    all_val_pred_labels = []\n",
        "    with torch.no_grad():\n",
        "        for semantic_masks, instance_masks, points in tqdm(val_dataloader):\n",
        "            outputs = model(semantic_masks)['out']\n",
        "            outputs = torch.nn.functional.softmax(outputs, dim=1)\n",
        "            instance_masks = instance_masks.squeeze(1)\n",
        "            points = points.squeeze(1)\n",
        "            loss = criterion(outputs, instance_masks, points)\n",
        "            val_running_loss += loss.item()\n",
        "\n",
        "            _, predicted = torch.max(outputs.data, 1)\n",
        "            val_total += instance_masks.nelement()\n",
        "            val_correct += (predicted == instance_masks).sum().item()\n",
        "\n",
        "            # Collect true and predicted labels for the classification report\n",
        "            all_val_true_labels.extend(instance_masks.cpu().numpy().flatten())\n",
        "            all_val_pred_labels.extend(predicted.cpu().numpy().flatten())\n",
        "\n",
        "    val_accuracy = val_correct / val_total\n",
        "\n",
        "\n",
        "    # Generate validation classification report\n",
        "    val_precision = precision_score(all_val_true_labels, all_val_pred_labels, average='weighted')\n",
        "    val_recall = recall_score(all_val_true_labels, all_val_pred_labels, average='weighted')\n",
        "    val_f1 = f1_score(all_val_true_labels, all_val_pred_labels, average='weighted')\n"
      ],
      "metadata": {
        "colab": {
          "base_uri": "https://localhost:8080/"
        },
        "id": "_WSpsspWgCiJ",
        "outputId": "a3304e86-471c-4c35-ed68-4102894dce42"
      },
      "execution_count": 105,
      "outputs": [
        {
          "output_type": "stream",
          "name": "stderr",
          "text": [
            "Epoch [1/2], Loss: 10.2651: 100%|██████████| 282/282 [29:38<00:00,  6.31s/it]\n",
            "/usr/local/lib/python3.10/dist-packages/sklearn/metrics/_classification.py:1344: UndefinedMetricWarning: Recall is ill-defined and being set to 0.0 in labels with no true samples. Use `zero_division` parameter to control this behavior.\n",
            "  _warn_prf(average, modifier, msg_start, len(result))\n",
            "100%|██████████| 71/71 [02:53<00:00,  2.44s/it]\n",
            "/usr/local/lib/python3.10/dist-packages/sklearn/metrics/_classification.py:1344: UndefinedMetricWarning: Precision is ill-defined and being set to 0.0 in labels with no predicted samples. Use `zero_division` parameter to control this behavior.\n",
            "  _warn_prf(average, modifier, msg_start, len(result))\n",
            "/usr/local/lib/python3.10/dist-packages/sklearn/metrics/_classification.py:1344: UndefinedMetricWarning: Recall is ill-defined and being set to 0.0 in labels with no true samples. Use `zero_division` parameter to control this behavior.\n",
            "  _warn_prf(average, modifier, msg_start, len(result))\n",
            "Epoch [2/2], Loss: 9.0588: 100%|██████████| 282/282 [29:25<00:00,  6.26s/it]\n",
            "/usr/local/lib/python3.10/dist-packages/sklearn/metrics/_classification.py:1344: UndefinedMetricWarning: Precision is ill-defined and being set to 0.0 in labels with no predicted samples. Use `zero_division` parameter to control this behavior.\n",
            "  _warn_prf(average, modifier, msg_start, len(result))\n",
            "/usr/local/lib/python3.10/dist-packages/sklearn/metrics/_classification.py:1344: UndefinedMetricWarning: Recall is ill-defined and being set to 0.0 in labels with no true samples. Use `zero_division` parameter to control this behavior.\n",
            "  _warn_prf(average, modifier, msg_start, len(result))\n",
            "100%|██████████| 71/71 [02:52<00:00,  2.43s/it]\n",
            "/usr/local/lib/python3.10/dist-packages/sklearn/metrics/_classification.py:1344: UndefinedMetricWarning: Precision is ill-defined and being set to 0.0 in labels with no predicted samples. Use `zero_division` parameter to control this behavior.\n",
            "  _warn_prf(average, modifier, msg_start, len(result))\n"
          ]
        }
      ]
    },
    {
      "cell_type": "markdown",
      "source": [
        "# Printing Training Metrics"
      ],
      "metadata": {
        "id": "hlvJuS7nM8vt"
      }
    },
    {
      "cell_type": "code",
      "source": [
        "print(f\"Epoch [{epoch+1}/{num_epochs}]\")\n",
        "print(f\"Training Accuracy: {train_accuracy:.2f}\")\n",
        "print(f\"Training Loss: {running_loss/len(train_dataloader):.4f}\")\n",
        "\n",
        "print(f\"Training Precision: {train_precision:.4f}\")\n",
        "print(f\"Training Recall: {train_recall:.4f}\")\n",
        "print(f\"Training F1 Score: {train_f1:.4f}\")\n"
      ],
      "metadata": {
        "colab": {
          "base_uri": "https://localhost:8080/"
        },
        "id": "XQQEh6TT5c-d",
        "outputId": "89824a95-f479-4771-a723-9f3830987e09"
      },
      "execution_count": 106,
      "outputs": [
        {
          "output_type": "stream",
          "name": "stdout",
          "text": [
            "Epoch [2/2]\n",
            "Training Accuracy: 0.92\n",
            "Training Loss: 9.0588\n",
            "Training Precision: 0.8809\n",
            "Training Recall: 0.9195\n",
            "Training F1 Score: 0.8998\n"
          ]
        }
      ]
    },
    {
      "cell_type": "markdown",
      "source": [
        "# Printing Validation Metrics"
      ],
      "metadata": {
        "id": "l-9zLtp9NFua"
      }
    },
    {
      "cell_type": "code",
      "source": [
        "print(f\"Validation Accuracy: {val_accuracy:.2f}\")\n",
        "print(f\"Validation Loss: {val_running_loss/len(val_dataloader):.4f}\")\n",
        "\n",
        "print(f\"Validation Precision: {val_precision:.4f}\")\n",
        "print(f\"Validation Recall: {val_recall:.4f}\")\n",
        "print(f\"Validation F1 Score: {val_f1:.4f}\")"
      ],
      "metadata": {
        "colab": {
          "base_uri": "https://localhost:8080/"
        },
        "id": "79fnFnus0hIz",
        "outputId": "621b28af-8578-4eb8-c4b7-c443d809c7ff"
      },
      "execution_count": 107,
      "outputs": [
        {
          "output_type": "stream",
          "name": "stdout",
          "text": [
            "Validation Accuracy: 0.94\n",
            "Validation Loss: 8.7794\n",
            "Validation Precision: 0.8893\n",
            "Validation Recall: 0.9430\n",
            "Validation F1 Score: 0.9153\n"
          ]
        }
      ]
    },
    {
      "cell_type": "markdown",
      "source": [
        "# Plotting Training and Validation Metrics"
      ],
      "metadata": {
        "id": "-0M1xeXUNOWL"
      }
    },
    {
      "cell_type": "code",
      "source": [
        "# Metrics and their corresponding values\n",
        "metrics = ['Training Accuracy', 'Training Loss', 'Training Precision', 'Training Recall', 'Training F1 Score']\n",
        "values = [train_accuracy, running_loss/len(train_dataloader), train_precision, train_recall, train_f1]\n",
        "\n",
        "# Plotting the bar chart\n",
        "plt.figure(figsize=(10, 6))\n",
        "plt.bar(metrics, values, color=['blue', 'red', 'green', 'orange', 'purple'])\n",
        "plt.title('Traning Metrics')\n",
        "plt.xlabel('Metrics')\n",
        "plt.ylabel('Values')\n",
        "plt.xticks(rotation=45, ha='right')\n",
        "plt.show()"
      ],
      "metadata": {
        "colab": {
          "base_uri": "https://localhost:8080/",
          "height": 647
        },
        "id": "j9FbZHWGh9Ae",
        "outputId": "6e4ca9b5-0d6e-49e0-9c42-5793e55071e9"
      },
      "execution_count": 108,
      "outputs": [
        {
          "output_type": "display_data",
          "data": {
            "text/plain": [
              "<Figure size 1000x600 with 1 Axes>"
            ],
            "image/png": "[encoded data removed]"
          },
          "metadata": {}
        }
      ]
    },
    {
      "cell_type": "code",
      "source": [
        "# Metrics and their corresponding values\n",
        "metrics = ['Validation Accuracy', 'Validation Loss', 'Validation Precision', 'Validation Recall', 'Validation F1 Score']\n",
        "values = [val_accuracy, val_running_loss/len(val_dataloader), val_precision, val_recall, val_f1]\n",
        "\n",
        "# Plotting the bar chart\n",
        "plt.figure(figsize=(10, 6))\n",
        "plt.bar(metrics, values, color=['blue', 'red', 'green', 'orange', 'purple'])\n",
        "plt.title('Validation Metrics')\n",
        "plt.xlabel('Metrics')\n",
        "plt.ylabel('Values')\n",
        "plt.xticks(rotation=45, ha='right')\n",
        "plt.show()"
      ],
      "metadata": {
        "colab": {
          "base_uri": "https://localhost:8080/",
          "height": 657
        },
        "id": "DJbpueVwzEcB",
        "outputId": "9b2b9b36-817a-45b9-c0d1-75a7e3992c63"
      },
      "execution_count": 109,
      "outputs": [
        {
          "output_type": "display_data",
          "data": {
            "text/plain": [
              "<Figure size 1000x600 with 1 Axes>"
            ],
            "image/png": "[encoded data removed]"
          },
          "metadata": {}
        }
      ]
    }
  ]
}